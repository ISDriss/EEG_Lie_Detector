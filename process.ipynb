{
 "cells": [
  {
   "cell_type": "code",
   "execution_count": null,
   "metadata": {},
   "outputs": [],
   "source": [
    "import os\n",
    "import numpy as np\n",
    "import pandas as pd\n",
    "import scipy.signal as signal\n",
    "import matplotlib.pyplot as plt\n",
    "from sklearn.preprocessing import StandardScaler\n",
    "from scipy.signal import butter, filtfilt, iirnotch"
   ]
  },
  {
   "cell_type": "markdown",
   "metadata": {},
   "source": [
    "# Load & Preprocessing"
   ]
  },
  {
   "cell_type": "code",
   "execution_count": 4,
   "metadata": {},
   "outputs": [],
   "source": [
    "# Paths\n",
    "DATA_DIR = \"data\"\n",
    "OUTPUT_DIR = \"processed_spectrograms\"\n",
    "\n",
    "# Ensure output directory exists\n",
    "os.makedirs(OUTPUT_DIR, exist_ok=True)\n",
    "\n",
    "# EEG Channels to use from Muse 2\n",
    "EEG_CHANNELS = [\"TP9\", \"Fp1\", \"Fp2\", \"TP10\", \"Fpz\"]"
   ]
  },
  {
   "cell_type": "code",
   "execution_count": 5,
   "metadata": {},
   "outputs": [],
   "source": [
    "# Band-pass filter (3-30Hz)\n",
    "def bandpass_filter(data, lowcut=3, highcut=30, fs=256, order=4):\n",
    "    nyquist = 0.5 * fs\n",
    "    low, high = lowcut / nyquist, highcut / nyquist\n",
    "    b, a = butter(order, [low, high], btype=\"band\")\n",
    "    return filtfilt(b, a, data, axis=0)\n",
    "\n",
    "# Notch filter (50Hz)\n",
    "def notch_filter(data, notch_freq=50, fs=256, quality=30):\n",
    "    b, a = iirnotch(notch_freq / (fs / 2), quality)\n",
    "    return filtfilt(b, a, data, axis=0)\n",
    "\n",
    "# Compute STFT Spectrogram\n",
    "def compute_stft(data, fs=256, nperseg=256, noverlap=128):\n",
    "    spectrograms = []\n",
    "    for channel in range(data.shape[1]):\n",
    "        f, t, Sxx = signal.spectrogram(data[:, channel], fs=fs, nperseg=nperseg, noverlap=noverlap)\n",
    "        spectrograms.append(Sxx)\n",
    "    return np.array(spectrograms)\n",
    "\n",
    "# Normalize using Z-score\n",
    "def normalize_data(data):\n",
    "    scaler = StandardScaler()\n",
    "    return scaler.fit_transform(data)\n",
    "\n",
    "# Save Spectrogram as Image\n",
    "def save_spectrograms(spectrograms, filename, label):\n",
    "    output_folder = os.path.join(OUTPUT_DIR, label)\n",
    "    os.makedirs(output_folder, exist_ok=True)\n",
    "\n",
    "    for i, spec in enumerate(spectrograms):\n",
    "        plt.figure(figsize=(6, 4))\n",
    "        plt.imshow(10 * np.log10(spec + 1e-10), aspect=\"auto\", cmap=\"jet\")\n",
    "        plt.colorbar()\n",
    "        plt.title(f\"Channel {EEG_CHANNELS[i]} Spectrogram\")\n",
    "        plt.xlabel(\"Time\")\n",
    "        plt.ylabel(\"Frequency\")\n",
    "        plt.savefig(os.path.join(output_folder, f\"{filename}_channel_{EEG_CHANNELS[i]}.png\"))\n",
    "        plt.close()"
   ]
  },
  {
   "cell_type": "code",
   "execution_count": null,
   "metadata": {},
   "outputs": [],
   "source": [
    "# Process a single EEG file\n",
    "def process_file(csv_path, label):\n",
    "    filename = os.path.basename(csv_path).split(\".\")[0]\n",
    "    \n",
    "    # Load EEG Data\n",
    "    df = pd.read_csv(csv_path)\n",
    "    if not all(channel in df.columns for channel in EEG_CHANNELS):\n",
    "        print(f\"Skipping {csv_path}, missing EEG channels!\")\n",
    "        return\n",
    "    \n",
    "    eeg_data = df[EEG_CHANNELS].values\n",
    "\n",
    "    # Apply filtering and preprocessing\n",
    "    eeg_data = bandpass_filter(eeg_data)\n",
    "    eeg_data = notch_filter(eeg_data)\n",
    "    eeg_data = normalize_data(eeg_data)\n",
    "    spectrograms = compute_stft(eeg_data)\n",
    "\n",
    "    # Save spectrogram images\n",
    "    save_spectrograms(spectrograms, filename, label)\n",
    "\n",
    "# Process all files in \"true\" and \"false\" folders\n",
    "def process_all():\n",
    "    for label in [\"true\", \"false\"]:\n",
    "        folder_path = os.path.join(DATA_DIR, label)\n",
    "        if not os.path.exists(folder_path):\n",
    "            print(f\"Skipping missing folder: {folder_path}\")\n",
    "            continue\n",
    "\n",
    "        for file in os.listdir(folder_path):\n",
    "            if file.endswith(\".csv\"):\n",
    "                file_path = os.path.join(folder_path, file)\n",
    "                process_file(file_path, label)"
   ]
  },
  {
   "cell_type": "code",
   "execution_count": 11,
   "metadata": {},
   "outputs": [
    {
     "name": "stdout",
     "output_type": "stream",
     "text": [
      "Skipping missing folder: data\\true\n",
      "Skipping missing folder: data\\false\n",
      "Processing complete! Check the 'processed_spectrograms' folder for results.\n"
     ]
    }
   ],
   "source": [
    "# Run the pipeline\n",
    "process_all()\n",
    "\n",
    "print(\"Processing complete! Check the 'processed_spectrograms' folder for results.\")"
   ]
  }
 ],
 "metadata": {
  "kernelspec": {
   "display_name": "env",
   "language": "python",
   "name": "python3"
  },
  "language_info": {
   "codemirror_mode": {
    "name": "ipython",
    "version": 3
   },
   "file_extension": ".py",
   "mimetype": "text/x-python",
   "name": "python",
   "nbconvert_exporter": "python",
   "pygments_lexer": "ipython3",
   "version": "3.12.8"
  }
 },
 "nbformat": 4,
 "nbformat_minor": 2
}
