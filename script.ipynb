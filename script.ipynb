{
 "cells": [
  {
   "cell_type": "code",
   "execution_count": null,
   "metadata": {},
   "outputs": [],
   "source": [
    "import os\n",
    "import numpy as np\n",
    "import pandas as pd\n",
    "import scipy.signal as signal\n",
    "import matplotlib.pyplot as plt\n",
    "from sklearn.preprocessing import StandardScaler\n",
    "from scipy.signal import butter, filtfilt, iirnotch"
   ]
  },
  {
   "cell_type": "markdown",
   "metadata": {},
   "source": [
    "# Load & Preprocessing"
   ]
  },
  {
   "cell_type": "code",
   "execution_count": 15,
   "metadata": {},
   "outputs": [],
   "source": [
    "# Paths\n",
    "DATA_DIR = os.path.join(os.getcwd(),\"data\")\n",
    "OUTPUT_DIR = \"processed_spectrograms\"\n",
    "\n",
    "# Ensure output directory exists\n",
    "os.makedirs(OUTPUT_DIR, exist_ok=True)\n",
    "\n",
    "# Corrected EEG Channel Mapping for Muse 2\n",
    "EEG_CHANNELS = {\n",
    "    \"TP9\": \"TP9\",   # Left temporal\n",
    "    \"AF7\": \"Fp1\",   # Left frontal\n",
    "    \"AF8\": \"Fp2\",   # Right frontal\n",
    "    \"TP10\": \"TP10\"  # Right temporal\n",
    "}"
   ]
  },
  {
   "cell_type": "code",
   "execution_count": 19,
   "metadata": {},
   "outputs": [],
   "source": [
    "# Band-pass filter (3-30Hz)\n",
    "def bandpass_filter(data, lowcut=3, highcut=30, fs=256, order=4):\n",
    "    nyquist = 0.5 * fs\n",
    "    low, high = lowcut / nyquist, highcut / nyquist\n",
    "    b, a = butter(order, [low, high], btype=\"band\")\n",
    "    return filtfilt(b, a, data, axis=0)\n",
    "\n",
    "# Notch filter (50Hz)\n",
    "def notch_filter(data, notch_freq=50, fs=256, quality=30):\n",
    "    b, a = iirnotch(notch_freq / (fs / 2), quality)\n",
    "    return filtfilt(b, a, data, axis=0)\n",
    "\n",
    "# Compute STFT Spectrogram\n",
    "def compute_stft(data, fs=256, nperseg=256, noverlap=128):\n",
    "    spectrograms = []\n",
    "    for channel in range(data.shape[1]):\n",
    "        f, t, Sxx = signal.spectrogram(data[:, channel], fs=fs, nperseg=nperseg, noverlap=noverlap)\n",
    "        spectrograms.append(Sxx)\n",
    "    return np.array(spectrograms)\n",
    "\n",
    "# Normalize using Z-score\n",
    "def normalize_data(data):\n",
    "    scaler = StandardScaler()\n",
    "    return scaler.fit_transform(data)\n",
    "\n",
    "# Save Spectrogram as Image\n",
    "def save_spectrograms(spectrograms, filename, label):\n",
    "    output_folder = os.path.join(OUTPUT_DIR, label)\n",
    "    os.makedirs(output_folder, exist_ok=True)\n",
    "\n",
    "    for i, spec in enumerate(spectrograms):\n",
    "        plt.figure(figsize=(6, 4))\n",
    "        plt.imshow(10 * np.log10(spec + 1e-10), aspect=\"auto\", cmap=\"jet\")\n",
    "        plt.colorbar()\n",
    "        plt.title(f\"Channel {list(EEG_CHANNELS.values())[i]} Spectrogram\")\n",
    "        plt.xlabel(\"Time\")\n",
    "        plt.ylabel(\"Frequency\")\n",
    "        plt.savefig(os.path.join(output_folder, f\"{filename}_channel_{list(EEG_CHANNELS.values())[i]}.png\"))\n",
    "        plt.close()"
   ]
  },
  {
   "cell_type": "code",
   "execution_count": 20,
   "metadata": {},
   "outputs": [],
   "source": [
    "# Load EEG Data with Corrected Column Names\n",
    "def load_eeg_data(csv_file):\n",
    "    \"\"\"Loads EEG data from a CSV file and renames columns.\"\"\"\n",
    "    df = pd.read_csv(csv_file)\n",
    "\n",
    "    # Rename columns to match expected format\n",
    "    df = df.rename(columns=EEG_CHANNELS)\n",
    "    \n",
    "    # Ensure required columns exist\n",
    "    missing_columns = [ch for ch in EEG_CHANNELS.values() if ch not in df.columns]\n",
    "    if missing_columns:\n",
    "        print(f\"⚠️ Skipping {csv_file}, missing columns: {missing_columns}\")\n",
    "        return None, None\n",
    "\n",
    "    return df[list(EEG_CHANNELS.values())].values, df[\"timestamps\"].values\n",
    "\n",
    "# Process a single EEG file\n",
    "def process_file(csv_path, label):\n",
    "    filename = os.path.basename(csv_path).split(\".\")[0]\n",
    "    \n",
    "    # Load EEG data\n",
    "    eeg_data, timestamps = load_eeg_data(csv_path)\n",
    "    if eeg_data is None:\n",
    "        return  # Skip files with missing EEG columns\n",
    "\n",
    "    # Apply filtering and preprocessing\n",
    "    eeg_data = bandpass_filter(eeg_data)\n",
    "    eeg_data = notch_filter(eeg_data)\n",
    "    eeg_data = normalize_data(eeg_data)\n",
    "    spectrograms = compute_stft(eeg_data)\n",
    "\n",
    "    # Save spectrogram images\n",
    "    save_spectrograms(spectrograms, filename, label)\n",
    "\n",
    "# Process all files in \"true\" and \"false\" folders\n",
    "def process_all():\n",
    "    for label in [\"true\", \"false\"]:\n",
    "        folder_path = os.path.join(DATA_DIR, label)\n",
    "        if not os.path.exists(folder_path):\n",
    "            print(f\"⚠️ Skipping missing folder: {folder_path}\")\n",
    "            continue\n",
    "\n",
    "        for file in os.listdir(folder_path):\n",
    "            if file.endswith(\".csv\"):\n",
    "                file_path = os.path.join(folder_path, file)\n",
    "                process_file(file_path, label)"
   ]
  },
  {
   "cell_type": "code",
   "execution_count": 21,
   "metadata": {},
   "outputs": [
    {
     "name": "stdout",
     "output_type": "stream",
     "text": [
      "Processing complete! Check the 'processed_spectrograms' folder for results.\n"
     ]
    }
   ],
   "source": [
    "# Run the pipeline\n",
    "process_all()\n",
    "\n",
    "print(\"Processing complete! Check the 'processed_spectrograms' folder for results.\")"
   ]
  },
  {
   "cell_type": "markdown",
   "metadata": {},
   "source": [
    "# Model Training"
   ]
  },
  {
   "cell_type": "code",
   "execution_count": 43,
   "metadata": {},
   "outputs": [],
   "source": [
    "import os\n",
    "import time\n",
    "import numpy as np\n",
    "import tensorflow as tf\n",
    "from tensorflow import keras\n",
    "from tensorflow.keras.preprocessing.image import ImageDataGenerator\n",
    "from tensorflow.keras.applications import EfficientNetV2S\n",
    "from tensorflow.keras.layers import Dense, Flatten, Dropout, GlobalAveragePooling2D\n",
    "from tensorflow.keras.models import Model\n",
    "from sklearn.model_selection import train_test_split\n",
    "from sklearn.utils.class_weight import compute_class_weight\n",
    "import matplotlib.pyplot as plt\n",
    "from sklearn.preprocessing import StandardScaler"
   ]
  },
  {
   "cell_type": "code",
   "execution_count": 48,
   "metadata": {},
   "outputs": [],
   "source": [
    "# Paths to spectrograms\n",
    "DATASET_DIR = \"processed_spectrograms\"\n",
    "\n",
    "# Image Parameters\n",
    "IMG_SIZE = (224, 224)  # Resize images to match EfficientNet input size\n",
    "BATCH_SIZE = 16\n",
    "EPOCHS = 20"
   ]
  },
  {
   "cell_type": "code",
   "execution_count": 49,
   "metadata": {},
   "outputs": [],
   "source": [
    "# Load Dataset\n",
    "def load_data():\n",
    "    images, labels = [], []\n",
    "    label_map = {\"true\": 0, \"false\": 1}  # Mapping for classification\n",
    "\n",
    "    for label in [\"true\", \"false\"]:\n",
    "        folder_path = os.path.join(DATASET_DIR, label)\n",
    "        if not os.path.exists(folder_path):\n",
    "            print(f\"⚠️ Skipping missing folder: {folder_path}\")\n",
    "            continue\n",
    "\n",
    "        for file in os.listdir(folder_path):\n",
    "            if file.endswith(\".png\"):\n",
    "                img_path = os.path.join(folder_path, file)\n",
    "                img = keras.preprocessing.image.load_img(img_path, target_size=IMG_SIZE)\n",
    "                img_array = keras.preprocessing.image.img_to_array(img)\n",
    "                images.append(img_array)\n",
    "                labels.append(label_map[label])\n",
    "\n",
    "    images = np.array(images) / 255.0  # Normalize pixel values\n",
    "    labels = np.array(labels)\n",
    "    return images, labels\n"
   ]
  },
  {
   "cell_type": "code",
   "execution_count": 50,
   "metadata": {},
   "outputs": [],
   "source": [
    "# Load and split data\n",
    "X, y = load_data()\n",
    "X_train, X_test, y_train, y_test = train_test_split(X, y, test_size=0.2, stratify=y, random_state=42)\n",
    "\n",
    "# Compute class weights (optional, for imbalanced data)\n",
    "class_weights = compute_class_weight(\"balanced\", classes=np.unique(y_train), y=y_train)\n",
    "class_weights_dict = {i: class_weights[i] for i in range(len(class_weights))}\n",
    "\n",
    "train_datagen = ImageDataGenerator(\n",
    "    rescale=1.0/255,  # Normalize pixel values\n",
    "    rotation_range=20,\n",
    "    width_shift_range=0.2,\n",
    "    height_shift_range=0.2,\n",
    "    zoom_range=0.2,\n",
    "    horizontal_flip=True\n",
    ")\n",
    "train_generator = train_datagen.flow(X_train, y_train, batch_size=BATCH_SIZE)"
   ]
  },
  {
   "cell_type": "code",
   "execution_count": 51,
   "metadata": {},
   "outputs": [],
   "source": [
    "# Build CNN Model (Using EfficientNetV2-S)\n",
    "base_model = EfficientNetV2S(weights=\"imagenet\", include_top=False, input_shape=(224, 224, 3))\n",
    "x = GlobalAveragePooling2D()(base_model.output)\n",
    "x = Dense(128, activation=\"relu\")(x)\n",
    "x = Dropout(0.3)(x)\n",
    "output = Dense(1, activation=\"sigmoid\")(x)  # Binary classification (true/false)\n",
    "model = Model(inputs=base_model.input, outputs=output)\n",
    "\n",
    "# Freeze base model layers initially\n",
    "for layer in base_model.layers:\n",
    "    layer.trainable = False\n",
    "\n",
    "# Compile model\n",
    "model.compile(optimizer=\"adam\", loss=\"binary_crossentropy\", metrics=[\"accuracy\"])"
   ]
  },
  {
   "cell_type": "code",
   "execution_count": 52,
   "metadata": {},
   "outputs": [
    {
     "name": "stderr",
     "output_type": "stream",
     "text": [
      "c:\\Users\\Ilian\\OneDrive\\Documents\\GH_Projects\\EEG_Lie_Detector\\env\\Lib\\site-packages\\keras\\src\\trainers\\data_adapters\\py_dataset_adapter.py:121: UserWarning: Your `PyDataset` class should call `super().__init__(**kwargs)` in its constructor. `**kwargs` can include `workers`, `use_multiprocessing`, `max_queue_size`. Do not pass these arguments to `fit()`, as they will be ignored.\n",
      "  self._warn_if_super_not_called()\n"
     ]
    },
    {
     "name": "stdout",
     "output_type": "stream",
     "text": [
      "Epoch 1/20\n",
      "\u001b[1m2/2\u001b[0m \u001b[32m━━━━━━━━━━━━━━━━━━━━\u001b[0m\u001b[37m\u001b[0m \u001b[1m68s\u001b[0m 18s/step - accuracy: 0.2083 - loss: 0.7062 - val_accuracy: 0.5000 - val_loss: 0.6980\n",
      "Epoch 2/20\n",
      "\u001b[1m2/2\u001b[0m \u001b[32m━━━━━━━━━━━━━━━━━━━━\u001b[0m\u001b[37m\u001b[0m \u001b[1m4s\u001b[0m 2s/step - accuracy: 0.5833 - loss: 0.6939 - val_accuracy: 0.5000 - val_loss: 0.6979\n",
      "Epoch 3/20\n",
      "\u001b[1m2/2\u001b[0m \u001b[32m━━━━━━━━━━━━━━━━━━━━\u001b[0m\u001b[37m\u001b[0m \u001b[1m4s\u001b[0m 2s/step - accuracy: 0.3125 - loss: 0.7024 - val_accuracy: 0.5000 - val_loss: 0.6976\n",
      "Epoch 4/20\n",
      "\u001b[1m2/2\u001b[0m \u001b[32m━━━━━━━━━━━━━━━━━━━━\u001b[0m\u001b[37m\u001b[0m \u001b[1m5s\u001b[0m 3s/step - accuracy: 0.4167 - loss: 0.6937 - val_accuracy: 0.5000 - val_loss: 0.6967\n",
      "Epoch 5/20\n",
      "\u001b[1m2/2\u001b[0m \u001b[32m━━━━━━━━━━━━━━━━━━━━\u001b[0m\u001b[37m\u001b[0m \u001b[1m6s\u001b[0m 3s/step - accuracy: 0.4792 - loss: 0.6939 - val_accuracy: 0.5000 - val_loss: 0.6961\n",
      "Epoch 6/20\n",
      "\u001b[1m2/2\u001b[0m \u001b[32m━━━━━━━━━━━━━━━━━━━━\u001b[0m\u001b[37m\u001b[0m \u001b[1m9s\u001b[0m 3s/step - accuracy: 0.4583 - loss: 0.7000 - val_accuracy: 0.5000 - val_loss: 0.6952\n",
      "Epoch 7/20\n",
      "\u001b[1m2/2\u001b[0m \u001b[32m━━━━━━━━━━━━━━━━━━━━\u001b[0m\u001b[37m\u001b[0m \u001b[1m4s\u001b[0m 2s/step - accuracy: 0.6042 - loss: 0.6907 - val_accuracy: 0.5000 - val_loss: 0.6945\n",
      "Epoch 8/20\n",
      "\u001b[1m2/2\u001b[0m \u001b[32m━━━━━━━━━━━━━━━━━━━━\u001b[0m\u001b[37m\u001b[0m \u001b[1m4s\u001b[0m 2s/step - accuracy: 0.5625 - loss: 0.6879 - val_accuracy: 0.5000 - val_loss: 0.6941\n",
      "Epoch 9/20\n",
      "\u001b[1m2/2\u001b[0m \u001b[32m━━━━━━━━━━━━━━━━━━━━\u001b[0m\u001b[37m\u001b[0m \u001b[1m5s\u001b[0m 3s/step - accuracy: 0.6875 - loss: 0.6654 - val_accuracy: 0.5000 - val_loss: 0.6940\n",
      "Epoch 10/20\n",
      "\u001b[1m2/2\u001b[0m \u001b[32m━━━━━━━━━━━━━━━━━━━━\u001b[0m\u001b[37m\u001b[0m \u001b[1m6s\u001b[0m 4s/step - accuracy: 0.4583 - loss: 0.7143 - val_accuracy: 0.5000 - val_loss: 0.6939\n",
      "Epoch 11/20\n",
      "\u001b[1m2/2\u001b[0m \u001b[32m━━━━━━━━━━━━━━━━━━━━\u001b[0m\u001b[37m\u001b[0m \u001b[1m10s\u001b[0m 3s/step - accuracy: 0.5417 - loss: 0.6851 - val_accuracy: 0.5000 - val_loss: 0.6940\n",
      "Epoch 12/20\n",
      "\u001b[1m2/2\u001b[0m \u001b[32m━━━━━━━━━━━━━━━━━━━━\u001b[0m\u001b[37m\u001b[0m \u001b[1m5s\u001b[0m 3s/step - accuracy: 0.3750 - loss: 0.7142 - val_accuracy: 0.5000 - val_loss: 0.6940\n",
      "Epoch 13/20\n",
      "\u001b[1m2/2\u001b[0m \u001b[32m━━━━━━━━━━━━━━━━━━━━\u001b[0m\u001b[37m\u001b[0m \u001b[1m5s\u001b[0m 3s/step - accuracy: 0.5833 - loss: 0.6867 - val_accuracy: 0.5000 - val_loss: 0.6939\n",
      "Epoch 14/20\n",
      "\u001b[1m2/2\u001b[0m \u001b[32m━━━━━━━━━━━━━━━━━━━━\u001b[0m\u001b[37m\u001b[0m \u001b[1m5s\u001b[0m 3s/step - accuracy: 0.4167 - loss: 0.6770 - val_accuracy: 0.5000 - val_loss: 0.6939\n",
      "Epoch 15/20\n",
      "\u001b[1m2/2\u001b[0m \u001b[32m━━━━━━━━━━━━━━━━━━━━\u001b[0m\u001b[37m\u001b[0m \u001b[1m7s\u001b[0m 4s/step - accuracy: 0.3333 - loss: 0.7589 - val_accuracy: 0.5000 - val_loss: 0.6940\n",
      "Epoch 16/20\n",
      "\u001b[1m2/2\u001b[0m \u001b[32m━━━━━━━━━━━━━━━━━━━━\u001b[0m\u001b[37m\u001b[0m \u001b[1m7s\u001b[0m 4s/step - accuracy: 0.6042 - loss: 0.6729 - val_accuracy: 0.5000 - val_loss: 0.6940\n",
      "Epoch 17/20\n",
      "\u001b[1m2/2\u001b[0m \u001b[32m━━━━━━━━━━━━━━━━━━━━\u001b[0m\u001b[37m\u001b[0m \u001b[1m8s\u001b[0m 2s/step - accuracy: 0.4167 - loss: 0.6945 - val_accuracy: 0.5000 - val_loss: 0.6940\n",
      "Epoch 18/20\n",
      "\u001b[1m2/2\u001b[0m \u001b[32m━━━━━━━━━━━━━━━━━━━━\u001b[0m\u001b[37m\u001b[0m \u001b[1m4s\u001b[0m 2s/step - accuracy: 0.5208 - loss: 0.7014 - val_accuracy: 0.5000 - val_loss: 0.6940\n",
      "Epoch 19/20\n",
      "\u001b[1m2/2\u001b[0m \u001b[32m━━━━━━━━━━━━━━━━━━━━\u001b[0m\u001b[37m\u001b[0m \u001b[1m4s\u001b[0m 3s/step - accuracy: 0.3542 - loss: 0.7118 - val_accuracy: 0.5000 - val_loss: 0.6941\n",
      "Epoch 20/20\n",
      "\u001b[1m2/2\u001b[0m \u001b[32m━━━━━━━━━━━━━━━━━━━━\u001b[0m\u001b[37m\u001b[0m \u001b[1m6s\u001b[0m 4s/step - accuracy: 0.5208 - loss: 0.6905 - val_accuracy: 0.5000 - val_loss: 0.6943\n",
      "Epoch 1/10\n",
      "\u001b[1m2/2\u001b[0m \u001b[32m━━━━━━━━━━━━━━━━━━━━\u001b[0m\u001b[37m\u001b[0m \u001b[1m73s\u001b[0m 20s/step - accuracy: 0.4792 - loss: 0.7346 - val_accuracy: 0.5000 - val_loss: 0.6939\n",
      "Epoch 2/10\n",
      "\u001b[1m2/2\u001b[0m \u001b[32m━━━━━━━━━━━━━━━━━━━━\u001b[0m\u001b[37m\u001b[0m \u001b[1m5s\u001b[0m 3s/step - accuracy: 0.5000 - loss: 0.7132 - val_accuracy: 0.5000 - val_loss: 0.6942\n",
      "Epoch 3/10\n",
      "\u001b[1m2/2\u001b[0m \u001b[32m━━━━━━━━━━━━━━━━━━━━\u001b[0m\u001b[37m\u001b[0m \u001b[1m5s\u001b[0m 3s/step - accuracy: 0.5833 - loss: 0.6595 - val_accuracy: 0.5000 - val_loss: 0.6940\n",
      "Epoch 4/10\n",
      "\u001b[1m2/2\u001b[0m \u001b[32m━━━━━━━━━━━━━━━━━━━━\u001b[0m\u001b[37m\u001b[0m \u001b[1m12s\u001b[0m 4s/step - accuracy: 0.4792 - loss: 0.7086 - val_accuracy: 0.5000 - val_loss: 0.6940\n",
      "Epoch 5/10\n",
      "\u001b[1m2/2\u001b[0m \u001b[32m━━━━━━━━━━━━━━━━━━━━\u001b[0m\u001b[37m\u001b[0m \u001b[1m6s\u001b[0m 3s/step - accuracy: 0.6042 - loss: 0.6658 - val_accuracy: 0.5000 - val_loss: 0.6941\n",
      "Epoch 6/10\n",
      "\u001b[1m2/2\u001b[0m \u001b[32m━━━━━━━━━━━━━━━━━━━━\u001b[0m\u001b[37m\u001b[0m \u001b[1m5s\u001b[0m 3s/step - accuracy: 0.3750 - loss: 0.7032 - val_accuracy: 0.5000 - val_loss: 0.6945\n",
      "Epoch 7/10\n",
      "\u001b[1m2/2\u001b[0m \u001b[32m━━━━━━━━━━━━━━━━━━━━\u001b[0m\u001b[37m\u001b[0m \u001b[1m5s\u001b[0m 3s/step - accuracy: 0.3333 - loss: 0.6952 - val_accuracy: 0.5000 - val_loss: 0.6950\n",
      "Epoch 8/10\n",
      "\u001b[1m2/2\u001b[0m \u001b[32m━━━━━━━━━━━━━━━━━━━━\u001b[0m\u001b[37m\u001b[0m \u001b[1m6s\u001b[0m 4s/step - accuracy: 0.3125 - loss: 0.7386 - val_accuracy: 0.5000 - val_loss: 0.6950\n",
      "Epoch 9/10\n",
      "\u001b[1m2/2\u001b[0m \u001b[32m━━━━━━━━━━━━━━━━━━━━\u001b[0m\u001b[37m\u001b[0m \u001b[1m7s\u001b[0m 4s/step - accuracy: 0.5208 - loss: 0.7131 - val_accuracy: 0.5000 - val_loss: 0.6952\n",
      "Epoch 10/10\n",
      "\u001b[1m2/2\u001b[0m \u001b[32m━━━━━━━━━━━━━━━━━━━━\u001b[0m\u001b[37m\u001b[0m \u001b[1m6s\u001b[0m 3s/step - accuracy: 0.4792 - loss: 0.7179 - val_accuracy: 0.5000 - val_loss: 0.6952\n"
     ]
    }
   ],
   "source": [
    "# Step 1: Train frozen model (feature extraction phase)\n",
    "history = model.fit(train_generator, epochs=EPOCHS, validation_data=(X_test, y_test), class_weight=class_weights_dict)\n",
    "\n",
    "# Step 2: Unfreeze deeper layers for fine-tuning\n",
    "for layer in base_model.layers[-20:]:  # Unfreeze last 20 layers\n",
    "    layer.trainable = True\n",
    "\n",
    "# Step 3: Recompile model with a lower learning rate\n",
    "model.compile(optimizer=keras.optimizers.Adam(learning_rate=1e-5), \n",
    "              loss=\"binary_crossentropy\", metrics=[\"accuracy\"])\n",
    "\n",
    "# Step 4: Continue training with fine-tuning\n",
    "history_finetune = model.fit(train_generator, epochs=10, validation_data=(X_test, y_test), class_weight=class_weights_dict)"
   ]
  },
  {
   "cell_type": "code",
   "execution_count": 53,
   "metadata": {},
   "outputs": [
    {
     "data": {
      "image/png": "[encoded data removed]",
      "text/plain": [
       "<Figure size 640x480 with 1 Axes>"
      ]
     },
     "metadata": {},
     "output_type": "display_data"
    },
    {
     "name": "stdout",
     "output_type": "stream",
     "text": [
      "✅ Model training complete! Model saved as 'eeg_lie_detector.h5'.\n"
     ]
    }
   ],
   "source": [
    "# Save model\n",
    "model.save(\"models/eeg_lie_detector%s.keras\" %time.strftime('%Y-%m-%H.%M.%S', time.localtime()))\n",
    "\n",
    "# Plot accuracy\n",
    "plt.plot(history.history[\"accuracy\"], label=\"Train Accuracy\")\n",
    "plt.plot(history.history[\"val_accuracy\"], label=\"Validation Accuracy\")\n",
    "plt.legend()\n",
    "plt.title(\"Training Accuracy Over Epochs\")\n",
    "plt.show()\n",
    "\n",
    "print(\"✅ Model training complete! Model saved as 'eeg_lie_detector.h5'.\")"
   ]
  }
 ],
 "metadata": {
  "kernelspec": {
   "display_name": "env",
   "language": "python",
   "name": "python3"
  },
  "language_info": {
   "codemirror_mode": {
    "name": "ipython",
    "version": 3
   },
   "file_extension": ".py",
   "mimetype": "text/x-python",
   "name": "python",
   "nbconvert_exporter": "python",
   "pygments_lexer": "ipython3",
   "version": "3.12.8"
  }
 },
 "nbformat": 4,
 "nbformat_minor": 2
}
